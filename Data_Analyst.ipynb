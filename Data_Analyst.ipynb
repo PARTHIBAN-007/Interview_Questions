{
 "cells": [
  {
   "cell_type": "markdown",
   "id": "88c13fdc",
   "metadata": {},
   "source": [
    "<div style=\"background-color:black; padding:10px; border-radius:25px;\">JP Morgan</div>\n"
   ]
  },
  {
   "cell_type": "markdown",
   "id": "be65734e",
   "metadata": {},
   "source": [
    "𝗦𝗤𝗟: 𝟱 𝗤𝘂𝗲𝘀𝘁𝗶𝗼𝗻𝘀\n",
    "\n",
    "1. What is the difference between INNER JOIN, LEFT JOIN, and RIGHT JOIN? Give examples.\n",
    "2. Using the table Sales(EmpID, SaleDate, Revenue), write a query to find the top 2 salespeople by revenue for each month.\n",
    "3. Write a query to remove duplicate rows from a table without using the DISTINCT keyword.\n",
    "4. You have a Products table with ProductID, Category, and SalesAmount. Write a query to calculate the running total of sales for each category.\n",
    "5. Given a table of website traffic logs, write a query to find the day with the highest number of unique visitors.\n",
    "\n",
    "𝗣𝗼𝘄𝗲𝗿 𝗕𝗜: 𝟯 𝗤𝘂𝗲𝘀𝘁𝗶𝗼𝗻𝘀\n",
    "1. How would you build an executive dashboard to track monthly sales performance?\n",
    "2. What are some best practices to improve the performance of a complex Power BI report?\n",
    "3. Explain the difference between a measure and a calculated column with examples.\n",
    "\n",
    "𝗣𝘆𝘁𝗵𝗼𝗻: 𝟮 𝗤𝘂𝗲𝘀𝘁𝗶𝗼𝗻𝘀\n",
    "\n",
    "1. Write a Python function to calculate the moving average of a list of sales data.\n",
    "2. How would you automate a daily reporting task using Python?\n",
    "\n",
    "𝗕𝗲𝗵𝗮𝘃𝗶𝗼𝗿𝗮𝗹: 𝟮 𝗤𝘂𝗲𝘀𝘁𝗶𝗼𝗻𝘀\n",
    "1. Why do you want to transition into a Data Analyst role?\n",
    "2. Tell us about a time you handled a complex problem under a tight deadline. How did you approach it?\n"
   ]
  },
  {
   "cell_type": "markdown",
   "id": "8518442e",
   "metadata": {},
   "source": [
    "<div style=\"background-color:black; padding:10px; border-radius:25px;\">FlipKart</div>\n"
   ]
  },
  {
   "cell_type": "markdown",
   "id": "1a6d1cba",
   "metadata": {},
   "source": [
    "\n",
    "SQL Questions:\n",
    "\n",
    " 1. What are window functions, and how do they differ from aggregate functions? Can you give a use case?\n",
    " 2. Explain indexing. When would an index potentially reduce performance, and how would you approach indexing strategy for a large dataset?\n",
    " 3. Write a query to retrieve customers who have made purchases in the last 30 days but did not purchase anything in the previous 30 days.\n",
    " 4. Given a table of transactions, find the top 3 most purchased products for each category.\n",
    " 5. How would you identify duplicate records in a large dataset, and how would you remove only the duplicates, retaining the first occurrence?\n",
    "\n",
    "Guesstimates:\n",
    "\n",
    " 1. Estimate the number of online food delivery orders in a large metropolitan city over a month.\n",
    " 2. How many customer service calls would a telecom company receive daily for a customer base of 1 million?\n",
    "\n",
    "Case Studies:\n",
    "\n",
    " 1. A sudden decrease in conversion rate is observed in a popular product category. How would you investigate the cause and propose solutions?\n",
    " 2. Imagine the company is considering adding a new subscription model. How would you evaluate its potential impact on customer lifetime value and revenue?\n",
    "\n",
    "Managerial Questions:\n",
    "\n",
    " 1. Describe a time when you faced conflicting priorities on a project. How did you manage your workload to meet deadlines?\n",
    " 2. How would you handle a disagreement within the team on an analytical approach?\n",
    "\n",
    "Python Questions:\n",
    "\n",
    " 1. Write a Python function to find the longest consecutive sequence of unique numbers in a list.\n",
    " 2. If you’re working with a large dataset with missing values, what Python libraries would you use to handle missing data, and why?"
   ]
  },
  {
   "cell_type": "markdown",
   "id": "cb1f781b",
   "metadata": {},
   "source": [
    "<div style=\"background-color:black; padding:10px; border-radius:25px;\">Wells Fargo</div>\n"
   ]
  },
  {
   "cell_type": "markdown",
   "id": "5f8d08bc",
   "metadata": {},
   "source": [
    "\n",
    "\n",
    "SQL Questions\n",
    "\n",
    " 1. You have a table Accounts with columns AccountID, CustomerID, Balance, and LastTransactionDate. Write a query to identify accounts that have been inactive for more than 12 months.\n",
    " 2. Given a table Transactions with columns TransactionID, AccountID, Amount, and TransactionDate, find the top 3 accounts with the highest total transaction volume for each month.\n",
    " 3. A table LoanApplications contains columns ApplicationID, CustomerID, LoanAmount, ApprovalStatus, and ApplicationDate. Write a query to calculate the average loan amount for approved applications submitted in the last six months.\n",
    " 4. Explain how a clustered index works and how it differs from a non-clustered index.\n",
    " 5. Describe a scenario where you would use a self-join in SQL and explain its benefits.\n",
    "\n",
    "Python Questions\n",
    "\n",
    " 6. Write a Python script to process a JSON file containing customer data and convert it into a structured DataFrame.\n",
    " 7. Develop a function to calculate the moving average of a given numerical column in a dataset.\n",
    " 8. Explain how you would use Python to validate and clean data received from an external source (e.g., removing duplicates, handling null values, etc.).\n",
    " 9. Write a Python program to identify and report outliers in a numerical dataset using the interquartile range (IQR) method.\n",
    "\n",
    "\n"
   ]
  },
  {
   "cell_type": "markdown",
   "id": "e3190e8f",
   "metadata": {},
   "source": [
    "<div style=\"background-color:black; padding:10px; border-radius:25px;\">PhonePe</div>\n"
   ]
  },
  {
   "cell_type": "markdown",
   "id": "72117656",
   "metadata": {},
   "source": [
    "\n",
    "\n",
    "🔹 SQL Questions:\n",
    " 1. Write a query to calculate the success rate of UPI transactions per state per day.\n",
    " 2. Identify users who made transactions in three or more different cities within a month.\n",
    " 3. From a transaction table, calculate the average transaction amount during peak hours (6 PM to 10 PM).\n",
    " 4. Create a query to find merchants who had more than 5 failed transactions in a row.\n",
    "\n",
    "\n",
    "🔹 Python Questions:\n",
    " 1. Write a function to detect anomalies in transaction amounts using the IQR (Interquartile Range) method.\n",
    " 2. Given two dictionaries of transaction IDs and amounts, write code to merge them and identify mismatches.\n",
    " 3. Explain the use of lambda functions and how they might help in transforming payment logs.\n",
    " \n",
    "\n",
    "🔹 Guesstimate Questions:\n",
    " 1. Estimate the number of UPI transactions phonepay processes in India per day.\n",
    " 2. How many users in tier-2 cities might use PhonePe for electricity bill payments monthly?"
   ]
  },
  {
   "cell_type": "markdown",
   "id": "3809e800",
   "metadata": {},
   "source": [
    "<div style=\"background-color:black; padding:10px; border-radius:25px;\">Zomato</div>\n"
   ]
  },
  {
   "cell_type": "markdown",
   "id": "618489ea",
   "metadata": {},
   "source": [
    "\n",
    "\n",
    "1. How would you analyze a dataset with missing values?\n",
    "2. Can you explain the difference between inner join and left join in SQL?\n",
    "3. How do you approach data cleaning in a dataset?\n",
    "4. What is the difference between UNION and UNION ALL in SQL?\n",
    "5. How would you calculate the mean, median, and mode for a given dataset?\n",
    "6. Explain a time when you used data visualization to communicate insights effectively.\n",
    "7. How do you handle outliers in a dataset?\n",
    "8. Describe the differences between supervised and unsupervised learning.\n",
    "9. What is A/B testing, and how would you set it up in a real-world scenario?\n",
    "10. How would you approach building a recommendation system?\n",
    "11. Explain the concept of time series analysis and its applications.\n",
    "12. What is normalization in databases, and why is it important?\n",
    "13. How do you decide on the appropriate statistical test for a given dataset?\n",
    "14. How would you calculate and interpret correlation between two variables?\n",
    "15. What is the difference between a primary key and a foreign key in a relational database?\n",
    "16. Can you explain the concept of pivot tables in Excel?\n",
    "17. Describe a scenario where you had to clean and merge large datasets. How did you approach it?\n",
    "18. How would you determine if a dataset is biased?\n",
    "19. What methods would you use to assess the quality of a dataset?\n",
    "20. How would you use SQL to find the top 10 highest-grossing products in a sales database?\n"
   ]
  },
  {
   "cell_type": "markdown",
   "id": "21ba71c9",
   "metadata": {},
   "source": [
    "<div style=\"background-color:black; padding:10px; border-radius:25px;\">Booking.com</div>\n"
   ]
  },
  {
   "cell_type": "markdown",
   "id": "843bd806",
   "metadata": {},
   "source": [
    "\n",
    "\n",
    "SQL Questions\n",
    "\n",
    " 1. Calculate the cancellation rate for each room type over the last 6 months, considering only bookings with a minimum stay of 2 nights.\n",
    " 2. Determine the average conversion rate (confirmed bookings vs. search events) for users grouped by their country and device type.\n",
    " 3. Identify properties that have consistently underperformed compared to the average booking rate of their region over the last 12 months.\n",
    " 4. Detect instances of demand surge where the number of bookings in an hour exceeds the hourly average by more than 50%.\n",
    " 5. What challenges might arise when querying sharded databases, especially for calculating global metrics like average booking rates?\n",
    " 6. Explain how you would handle booking timestamps originating from different time zones when querying for global daily booking patterns.\n",
    " 7. how would you balance normalization for data integrity and denormalization for query performance?\n",
    " 8. If two systems simultaneously update the same booking record, what mechanisms would you use in SQL to prevent data conflicts and ensure consistency?\n",
    " 9. Explain the scenarios where window functions outperform traditional group-by clauses in SQL.\n",
    "\n",
    "Guesstimate Questions\n",
    "\n",
    " 1. Estimate the total number of hotel bookings made globally in a day on Booking.com. Explain the factors and assumptions you would consider to arrive at your estimate.\n",
    " 2. How many unique users do you think search for flights on Booking.com in a month? Provide a structured approach to your calculation.\n",
    "\n",
    "Case Study Questions\n",
    "\n",
    " 1. You notice a sudden drop in conversion rates (from search to booking) for hotels in a particular city. How would you investigate the root cause and propose solutions?\n",
    " 2. Booking.com is launching a new feature that allows users to book multi-city trips. How would you measure the success of this feature post-launch, and what metrics would you track to ensure its adoption and profitability?"
   ]
  },
  {
   "cell_type": "markdown",
   "id": "65f19d56",
   "metadata": {},
   "source": [
    "<div style=\"background-color:black; padding:10px; border-radius:25px;\">Micorsoft</div>"
   ]
  },
  {
   "cell_type": "markdown",
   "id": "4485636e",
   "metadata": {},
   "source": [
    "\n",
    "\n",
    "1. Can you discuss your experience with SQL and provide examples of queries you've written?\n",
    "2. Describe a project where you utilized data analysis to solve a problem. What tools did you use, and what was the outcome?\n",
    "3. What is data cleaning, and why is it important?\n",
    "4. Explain the difference between a primary key and a foreign key in SQL.\n",
    "5. How would you handle tight deadlines when working on a data analysis project?\n",
    "6. What is data visualization, and why is it important?\n",
    "7. Can you discuss a time when you dealt with missing or inconsistent data? How did you handle it?\n",
    "8. What are some common data analysis tools you have used?\n",
    "9. Why do you believe you're a good fit for this team, and what specific tools or knowledge do you bring?\n",
    "10. Describe a project where you analyzed a large dataset. What tools did you use, and what insights did you gain?\n",
    "11. How would you assess the validity of the result in an A/B test with a p-value of 0.04?\n",
    "12. How would you debug and improve the efficiency of a slow SQL query?\n",
    "13. What is denormalization, and in what situations might it be useful?\n",
    "14. How would you determine how much Spotify should pay for an ad in a third-party app?\n",
    "15. When creating a predictive method to forecast client churn, how will you manage the quality assurance process?\n",
    "16. Can you explain the concept of a hash table collision and how to handle it?\n",
    "17. What are some challenges you may face as a data analyst, and how would you overcome them?"
   ]
  },
  {
   "cell_type": "markdown",
   "id": "03719825",
   "metadata": {},
   "source": [
    "<div style=\"background-color:black; padding:10px; border-radius:25px;\">KPMG</div>\n"
   ]
  },
  {
   "cell_type": "markdown",
   "id": "1937bedc",
   "metadata": {},
   "source": [
    "KPMG Power BI developer Interview experience:\n",
    "\n",
    "1. What is a Factless Fact table?\n",
    "2. Can you give an example of Slowly Changing Dimensions?\n",
    "3. What is Append, and what is the necessary condition to append queries?\n",
    "4. What are Relationship Modifiers in Power BI?\n",
    "5. What is Incremental Refresh, and will you actually implement it in your model?\n",
    "6. Can you tell any use case of using Bookmarks?\n",
    "7. How can you differentiate between Related and Lookupvalue DAX functions?\n",
    "8. What error do we get when we have many-to-many relationships between two tables?\n",
    "9. What are the limitations of using Direct Query connection mode reports\n",
    "10. What is a Decomposition Tree visual, and how is it useful?\n",
    "11. How can you change the order of the values displayed on the X-axis of a Column chart as per the requirement?\n",
    "12. Can we implement RLS (Row Level Security) in Power BI?\n",
    "13. What is the difference between calculated columns and measures?\n",
    "14. How do you handle performance optimization in Power BI?\n",
    "15. What is a surrogate key, and why do we use it in Power BI?\n",
    "16. How can you create a custom tooltip in Power BI?\n",
    "17. How do you handle large datasets in Power BI?\n",
    "18. Can you explain what a KPI visual is and how it is used?\n",
    "19. What is the role of Hierarchies in Power BI?\n",
    "20. How can you implement drillthrough in Power BI reports?"
   ]
  },
  {
   "cell_type": "markdown",
   "id": "2109eebf",
   "metadata": {},
   "source": [
    "<div style=\"background-color:black; padding:10px; border-radius:25px;\">PWC</div>\n"
   ]
  },
  {
   "cell_type": "markdown",
   "id": "ddeaeab8",
   "metadata": {},
   "source": [
    "\n",
    "\n",
    "SQL Questions:\n",
    "\n",
    " 1. Write a query to find the cumulative revenue by month for each product category in a sales table.\n",
    " 2. How would you retrieve the top 5 products by sales volume, excluding any products that had zero sales in the past 3 months?\n",
    " 3. Given a table of customer transactions, identify all customers who made purchases in two or more consecutive months.\n",
    " 4. Write a query to calculate the retention rate of users on a monthly basis.\n",
    " 5. Find the nth highest salary from an employee table, where n is a parameter passed dynamically to the query.\n",
    " 6. Explain how indexing works in SQL and how to decide which columns should be indexed for optimal performance.\n",
    " 7. Describe the differences between LEFT JOIN, RIGHT JOIN, and FULL OUTER JOIN and when to use each one in a complex query.\n",
    " 8. What is the difference between HAVING and WHERE clauses in SQL, and when would you use each?\n",
    "\n",
    "Python Questions:\n",
    "\n",
    " 1. Write a Python function to find all unique pairs of integers in a list that sum up to a given target value.\n",
    " 2. Given a string, write a function to check if it’s a palindrome, ignoring spaces, punctuation, and case sensitivity.\n",
    " 3. Explain the difference between deep copy and shallow copy in Python. When would you use each?\n",
    " 4. What are decorators in Python, and how do they work? Provide an example of a scenario where a decorator would be useful.\n",
    "\n",
    "Guesstimate Questions:\n",
    " 1. Estimate the number of smartphones sold in India annually.\n",
    " 2. How would you estimate the daily revenue generated by roadside tea stalls across India?"
   ]
  },
  {
   "cell_type": "markdown",
   "id": "3665964e",
   "metadata": {},
   "source": [
    "<div style=\"background-color:black; padding:10px; border-radius:25px;\">EXL</div>\n"
   ]
  },
  {
   "cell_type": "markdown",
   "id": "49162117",
   "metadata": {},
   "source": [
    "\n",
    "SQL Questions\n",
    "1. Retrieve the top 3 revenue-generating products within each category.\n",
    "2. Identify products with revenue higher than the average across all products.\n",
    "3. Use LAG() and CASE to find customers showing month-over-month spending growth.\n",
    "4. Mark each user’s first and last transaction in a dataset.\n",
    "5. Find employees under the same manager who also earn identical salaries.\n",
    "\n",
    "\n",
    "Python Questions\n",
    "1. Reverse a list manually (without .reverse() or slicing).\n",
    "2. Convert a mixed string like “abc123xyz” to uppercase without using .upper().\n",
    "3. Extract keys from a dictionary where values are even.\n",
    "4. Check if two strings are anagrams using a custom function.\n",
    "5. Create a frequency map for each character in a string.\n",
    "\n",
    "\n",
    "Excel Questions\n",
    "1. Practical differences between COUNT, COUNTA, and COUNTBLANK.\n",
    "2. Use INDEX + MATCH to look up a value to the left of your reference column.\n",
    "3. Apply IFERROR in nested formulas for error handling.\n",
    "4. Highlight duplicate values while skipping the first occurrence.\n",
    "5. Calculate total sales using SUMIFS with multiple criteria (e.g., Region = “West”, Month = “Jan”).\n",
    "\n",
    "\n",
    "Power BI Questions\n",
    "1. Difference between a calculated column and a measure.\n",
    "2. Handling many-to-many relationships in your data model.\n",
    "3. Write a DAX measure for running total (cumulative sales) per customer.\n",
    "4. Use slicers to apply dynamic filters across visuals.\n",
    "5. Design a KPI visual comparing current vs. previous month sales."
   ]
  },
  {
   "cell_type": "markdown",
   "id": "1d4d852e",
   "metadata": {},
   "source": [
    "<div style=\"background-color:black; padding:10px; border-radius:25px;\">Goldman Sachs</div>\n"
   ]
  },
  {
   "cell_type": "markdown",
   "id": "52d238ef",
   "metadata": {},
   "source": [
    "\n",
    "SQL:\n",
    "\n",
    " 1. Calculate the average salary for each department from the table.\n",
    " 2. Write a SQL query to display the employee’s name along with their manager’s name using a self-join on the ‘employees’ table, which contains ‘emp_id’, ‘name’, and ‘manager_id’ columns.\n",
    " 3. Find the most recent hire for each department (solved using LEAD/LAG functions).\n",
    " 4. Write a query to retrieve the nth highest salary from the Employees table, which has ‘EmployeeID’, ‘Name’, and ‘Salary’ columns.\n",
    "\n",
    "Power BI:\n",
    "\n",
    " 1. what is meant by Filter context in DAX?\n",
    " 2. Explain the process of implementing Row-Level Security (RLS) in Power BI.\n",
    " 3. Describe the different types of filters available in Power BI.\n",
    " 4. What’s the difference between the ‘ALL’ and ‘ALLSELECTED’ functions in DAX?\n",
    " 5. How would you use DAX to calculate total sales for a specific product?\n",
    "\n",
    "Python:\n",
    "\n",
    " 1. Create a dictionary, add elements, update a specific entry, and print the dictionary sorted by key in alphabetical order.\n",
    " 2. Identify unique values from a list of numbers and print how many times each value occurs.\n",
    " 3. Find and print the duplicate values in a list of numbers, along with their frequency.\n"
   ]
  },
  {
   "cell_type": "markdown",
   "id": "a268c62a",
   "metadata": {},
   "source": [
    "<div style=\"background-color:black; padding:10px; border-radius:25px;\">Google</div>\n"
   ]
  },
  {
   "cell_type": "markdown",
   "id": "b799c51c",
   "metadata": {},
   "source": [
    "\n",
    "\n",
    "SQL Questions-\n",
    "\n",
    "1. Write a query to calculate the bounce rate for a website using session and page view data.\n",
    "2. From a user_activity table, find the number of users who were active on at least 15 days in a given month.\n",
    "3. You have a search_logs table with query, timestamp, and user_id. Find the top 3 most frequent search queries per week.\n",
    "\n",
    "Power BI Questions-\n",
    "\n",
    "1. How do you optimize a Power BI dashboard with millions of rows for performance and user experience?\n",
    "2. Explain how incremental data refresh works and why it’s important.\n",
    "3. What’s the difference between calculated columns and measures in Power BI, and when would you use each?\n",
    "4. How would you implement cross-report drillthrough in Power BI for navigating between detailed reports?\n",
    "\n",
    "Python Questions-\n",
    "\n",
    "1. Write a Python function to detect outliers in a dataset using the IQR method.\n",
    "2. You have two DataFrames: clicks and installs. Merge them and calculate the install-to-click ratio per campaign.\n",
    "3. How would you use Python to automate a weekly reporting task that includes querying data, generating a chart, and emailing it?"
   ]
  },
  {
   "cell_type": "markdown",
   "id": "b804b474",
   "metadata": {},
   "source": [
    "SQL: 5 questions \n",
    "1. Explain the difference between RANK(), DENSE_RANK(), and ROW_NUMBER() functions using example.\n",
    "2. Find the nth highest salary from the Employee table. \n",
    "3. You have an employee table with employee ID and manager ID. Find all employees under a specific manager, including their subordinates at any level.\n",
    "4. Write a query to find the cumulative salary of employees department-wise, who have joined company in last 30 days. \n",
    "5. Find the top 2 customers with the highest order amount for each product category, handling ties appropriately. Table: customer (CustomerID, ProductCategory, OrderAmount)\n",
    "\n",
    "Power BI: 3 questions\n",
    "1. Explain step-by-step how will you create a sales dashboard from scratch. \n",
    "2. Explain how you can optimize a slow Power BI report.\n",
    "3. Explain Any 5 Chart Types and Their Uses in Representing Different Aspects of Data. \n",
    "\n",
    "Behavioral: 2 Questions\n",
    "1. Why you want to become a data analyst and why did you apply to this company?\n",
    "2. Describe a time when you had to manage a difficult task with tight deadlines. How did you handle it?"
   ]
  },
  {
   "cell_type": "markdown",
   "id": "c7175243",
   "metadata": {},
   "source": [
    "<div style=\"background-color:black; padding:10px; border-radius:25px;\">KPMG</div>\n"
   ]
  },
  {
   "cell_type": "markdown",
   "id": "778f58a3",
   "metadata": {},
   "source": [
    "\n",
    "SQL:\n",
    "\n",
    " 1. Write a query to calculate the total revenue generated by each region.\n",
    " 2. Display the names of employees who have a salary above the average salary in their department.\n",
    " 3. Identify the second highest salary in each department from the ‘employees’ table, which has ‘emp_id’, ‘department_id’, and ‘salary’ columns.\n",
    " 4. Write a SQL query to find employees who have not had any recent sales in the last 3 months.\n",
    "\n",
    "Power BI:\n",
    "\n",
    " 1. Explain how you would create a dynamic date filter in Power BI for last month’s data.\n",
    " 2. Describe the steps for setting up role-based access in Power BI using Row-Level Security (RLS).\n",
    " 3. What is the difference between a calculated column and a measure in Power BI?\n",
    " 4. How would you approach building a KPI dashboard that tracks multiple metrics over time?\n",
    "\n",
    "Python:\n",
    "\n",
    " 1. Write a Python function to filter out customers who have made more than 5 purchases in the last 6 months.\n",
    " 2. Create a program that reads a CSV file, extracts unique values in a column, and saves the results in a new file.\n",
    " 3. Develop a Python script to visualize monthly sales trends for a dataset using Matplotlib or Seaborn.\n",
    "\n",
    "Case Study Round (Guesstimate Focus):\n",
    "In addition to technical questions, there was a guesstimate question to test analytical thinking.\n"
   ]
  },
  {
   "cell_type": "markdown",
   "id": "025fc727",
   "metadata": {},
   "source": [
    "<div style=\"background-color:black; padding:10px; border-radius:25px;\">EY and Zepto</div>\n"
   ]
  },
  {
   "cell_type": "markdown",
   "id": "456080c3",
   "metadata": {},
   "source": [
    "\n",
    "1. How would you analyze user behavior data to recommend changes to a website's user interface?\n",
    "2. Explain how you would assess the validity of an A/B test result with a p-value of 0.04.\n",
    "3. How would you debug and optimize a slow-running SQL query?\n",
    "4. Describe how you would determine the amount Spotify should pay for advertising in a third-party app.\n",
    "5. Write a SQL query to find the second highest salary in the engineering department.\n",
    "6. How can a utility company model the electricity supply needed for a town?\n",
    "7. Explain how sentiment analysis models convert raw text data into numerical vectors and are trained.\n",
    "8. How would you evaluate the effectiveness of a clustering model used to group basketball players without pre-labeled data?\n",
    "9. Write a SQL query to return all neighborhoods that have zero users.\n",
    "10. Given a table of bank transactions, write a query to get the last transaction for each day.\n",
    "11. Describe a time when you had to explain a complex dataset to a non-technical client.\n",
    "12. Imagine you're given survey data about client satisfaction. How would you analyze it and present actionable insights?\n",
    "13. You have sales data for different regions. What steps would you take to identify regions with potential growth opportunities?\n",
    "14. Explain how you would handle a large dataset with missing values in Pandas.\n",
    "15. Describe a scenario where you used data analysis to influence a business decision.\n"
   ]
  },
  {
   "cell_type": "markdown",
   "id": "01c98b46",
   "metadata": {},
   "source": [
    "<div style=\"background-color:black; padding:10px; border-radius:25px;\">Uber</div>\n"
   ]
  },
  {
   "cell_type": "markdown",
   "id": "20b8d863",
   "metadata": {},
   "source": [
    "\n",
    "SQL Questions:\n",
    "\n",
    "1. Write an SQL query to extract the third transaction of every user, displaying user ID, spend, and transaction date.\n",
    "2. Calculate the average ratings for each driver across different cities using data from rides and ratings tables.\n",
    "3. Create an SQL query to identify customers registered with Gmail addresses from the 'users' database.\n",
    "4. What does database denormalization mean?\n",
    "5. Analyze the click-through conversion rates using data from ad_clicks and cab_bookings tables.\n",
    "6. Define a self-join and provide a scenario for its application.\n",
    "\n",
    "Scenario-Based Question:\n",
    "1. What is the probability that at least two of three recommended routes for drivers are the fastest, given a 70% success rate?\n",
    "\n",
    "Guesstimate Questions:\n",
    "1. Estimate the number of Uber drivers in Delhi.\n",
    "2. How many Uber cabs leave Bengaluru Airport in a day?"
   ]
  },
  {
   "cell_type": "markdown",
   "id": "4b74474e",
   "metadata": {},
   "source": [
    "<div style=\"background-color:black; padding:10px; border-radius:25px;\">Goldman Sachs</div>\n"
   ]
  },
  {
   "cell_type": "markdown",
   "id": "f4ad5ddc",
   "metadata": {},
   "source": [
    "\n",
    "SQL:\n",
    "\n",
    " 1. Calculate the average salary for each department from the table.\n",
    " 2. Write a SQL query to display the employee’s name along with their manager’s name using a self-join on the ‘employees’ table, which contains ‘emp_id’, ‘name’, and ‘manager_id’ columns.\n",
    " 3. Find the most recent hire for each department (solved using LEAD/LAG functions).\n",
    " 4. Write a query to retrieve the nth highest salary from the Employees table, which has ‘EmployeeID’, ‘Name’, and ‘Salary’ columns.\n",
    "\n",
    "Power BI:\n",
    "\n",
    " 1. what is meant by Filter context in DAX?\n",
    " 2. Explain the process of implementing Row-Level Security (RLS) in Power BI.\n",
    " 3. Describe the different types of filters available in Power BI.\n",
    " 4. What’s the difference between the ‘ALL’ and ‘ALLSELECTED’ functions in DAX?\n",
    " 5. How would you use DAX to calculate total sales for a specific product?\n",
    "\n",
    "Python:\n",
    "\n",
    " 1. Create a dictionary, add elements, update a specific entry, and print the dictionary sorted by key in alphabetical order.\n",
    " 2. Identify unique values from a list of numbers and print how many times each value occurs.\n",
    " 3. Find and print the duplicate values in a list of numbers, along with their frequency."
   ]
  },
  {
   "cell_type": "markdown",
   "id": "d2b98968",
   "metadata": {},
   "source": [
    "<div style=\"background-color:black; padding:10px; border-radius:25px;\">Walmart</div>\n"
   ]
  },
  {
   "cell_type": "markdown",
   "id": "3299928e",
   "metadata": {},
   "source": [
    "\n",
    "1. Write a SQL query to find the second-highest salary from the Employees table.\n",
    "2. Find the number of users who placed orders in two consecutive months.\n",
    "3. Given a transactions table, write a query to find the top 3 products by revenue per month.\n",
    "4. Find users who have never purchased the same item twice.\n",
    "5. Identify customers who made their first purchase in January but never purchased again.\n",
    "6. How would you measure the impact of a new pricing strategy on in-store sales?\n",
    "7. Walmart sees a sudden drop in online grocery orders. How would you investigate and report this?\n",
    "8. Explain how you would analyze cart abandonment in Walmart's e-commerce flow.\n",
    "9. You are given a dataset with product sales. Identify outliers and suggest actions.\n",
    "10. How would you determine which category of products is underperforming and why?\n",
    "11. Tell me about a time when you had to explain a complex analysis to a non-technical stakeholder\n",
    "12. Describe a time when your analysis was challenged. How did you handle it?\n"
   ]
  },
  {
   "cell_type": "markdown",
   "id": "18e49da2",
   "metadata": {},
   "source": [
    "<div style=\"background-color:black; padding:10px; border-radius:25px;\">Amazon </div>\n"
   ]
  },
  {
   "cell_type": "markdown",
   "id": "222229c9",
   "metadata": {},
   "source": [
    "\n",
    "1. Write a query to find the top 3 best-selling products in the last 30 days.\n",
    "2. How would you write a query to get users who purchased more than 3 times in a week?\n",
    "3. Given a table with user purchases, identify returning customers vs. one-time buyers.\n",
    "4. Find the cumulative revenue per day for the last 7 days.\n",
    "5. Explain how ROW_NUMBER() vs. RANK() works. When would you use each?\n",
    "6. How would you define and calculate GMV (Gross Merchandise Value)?\n",
    "7. Explain how you would measure the success of a new feature on the app.\n",
    "8. If Myntra’s cart abandonment rate increases suddenly, how would you investigate?\n",
    "9. How would you estimate the impact of delayed delivery on customer retention?\n",
    "10. What metrics would you track for the homepage of the Myntra app?\n",
    "11. How would you design an A/B test for a new product sorting algorithm?\n",
    "12. A test shows no significant difference in conversion rates. What could be the reasons?\n",
    "13. Explain p-value and confidence interval in the context of experiments.\n",
    "14. How would you calculate sample size for an A/B test with 80% power and 95% confidence?\n",
    "15. What are some pitfalls to avoid when analyzing an A/B test?\n",
    "16. You notice a dip in orders in the North region—how would you investigate?\n",
    "17. Amazon sees a drop in Prime membership renewals—what data would you pull and why?\n",
    "18. You’re given a dashboard showing daily active users; what checks would you do to validate it?\n",
    "19. How would you design a data model to track user behavior across different sessions and devices?\n",
    "20. How do you ensure data quality and consistency in a large data warehouse like Redshift or BigQuery?"
   ]
  },
  {
   "cell_type": "markdown",
   "id": "e10db995",
   "metadata": {},
   "source": [
    "<div style=\"background-color:black; padding:10px; border-radius:25px;\">Amazon </div>\n"
   ]
  },
  {
   "cell_type": "markdown",
   "id": "4e4187ac",
   "metadata": {},
   "source": [
    "\n",
    "1. Write a query to find the second highest salary from an employee table.\n",
    "2. How would you find the missing numbers in a given list of numbers from 1 to N?\n",
    "3. Write a query to calculate the running total of a sales table by month.\n",
    "4. How would you retrieve all rows where a column contains duplicates, but only showing the duplicates once?\n",
    "5. Write a query to find the most frequent order status in an orders table.\n",
    "6. How would you find the top 3 products with the highest total sales in the last year?\n",
    "7. Write a query to calculate the percentage of users who logged in today compared to the total user base.\n",
    "8. How would you find all customers who placed an order more than once in the past month?\n",
    "9. Write a query to retrieve the employee(s) with the highest salary for each department.\n",
    "10. How do you find the first and last purchase date for each customer from an order table?\n",
    "11. Write a query to find the first non-null value in a column across multiple rows.\n",
    "12. How would you handle performance issues when querying large datasets in SQL?\n",
    "13. Write a query to get the average order value per customer, excluding those who have only placed one order.\n",
    "14. How would you retrieve the employees who have worked for more than 10 years without using DATEDIFF?\n",
    "15. Write a query to find the day of the week that had the maximum number of orders.\n",
    "16. How would you retrieve the customer(s) with the longest order history?\n",
    "17. Write a query to detect and list duplicate rows in a table based on specific columns.\n",
    "18. How would you find the total number of products sold each month, grouped by product category?\n",
    "19. Write a query to compare the current year’s sales data against the same period in the previous year.\n",
    "20. How would you optimize a slow-running query in SQL involving multiple joins on large tables?"
   ]
  },
  {
   "cell_type": "markdown",
   "id": "ba6179d7",
   "metadata": {},
   "source": [
    "<div style=\"background-color:black; padding:10px; border-radius:25px;\">Walmart</div>\n"
   ]
  },
  {
   "cell_type": "markdown",
   "id": "b68de0d1",
   "metadata": {},
   "source": [
    "\n",
    "SQL Questions\n",
    "\n",
    "1. Write a SQL query to calculate the cumulative sum of sales per product per month. Ensure the output is ordered correctly.\n",
    "2. How would you write a query to find the top 3 products contributing to total revenue each month using window functions?\n",
    "3. Create a query to detect anomalies in transaction data by identifying days where sales were more than 3 standard deviations from the mean.\n",
    "\n",
    "Power BI Questions\n",
    "\n",
    "1. How would you create dynamic visuals using parameters in Power BI? Provide an example where parameters enhance user experience.\n",
    "2. Explain the concept of incremental data refresh in Power BI. Why is it beneficial for large datasets?\n",
    "3. How would you troubleshoot performance issues in a Power BI report with slow-loading visuals? Discuss specific techniques and tools available.\n",
    "4. Describe how you can create a complex DAX calculation to display year-over-year growth for a specific product segment.\n",
    "\n",
    "Python Questions\n",
    "\n",
    "1. Write a Python function to identify outliers in a numerical dataset using the IQR (Interquartile Range) method.\n",
    "2. Using pandas, write a code snippet to generate a summary report showing the percentage contribution of each product to total sales over a given time frame.\n",
    "3. Develop a Python script that reads multiple CSV files from a directory, merges them into a single DataFrame, and performs data cleansing (e.g., handling missing values, data type conversion).\n",
    "4. Implement a simple logistic regression model using scikit-learn to predict whether a customer will purchase a product based on given features. Explain how you would evaluate the model’s accuracy."
   ]
  },
  {
   "cell_type": "markdown",
   "id": "9bf05eb6",
   "metadata": {},
   "source": [
    "<div style=\"background-color:black; padding:10px; border-radius:25px;\">Fractal</div>\n"
   ]
  },
  {
   "cell_type": "markdown",
   "id": "caf35b62",
   "metadata": {},
   "source": [
    "\n",
    "SQL Questions\n",
    "\n",
    " 1. You are given a table EmployeeLogs with columns EmployeeID, LoginTime, LogoutTime, and Date. Write a query to calculate the longest continuous working streak (consecutive days without missing a login) for each employee.\n",
    " 2. A table SalesData contains columns TransactionID, Region, ProductID, SaleDate, and Revenue. Write a query to identify the top 3 products with the highest cumulative revenue in each region over the last fiscal year.\n",
    " 3. Explain the concept of window functions and how they differ from aggregate functions, with examples of use cases.\n",
    " 4. Describe how ACID properties are maintained in modern relational databases and the challenges associated with distributed systems.\n",
    " 5. Explain how different types of indexes (e.g., clustered, non-clustered) impact query performance in large datasets.\n",
    "\n",
    "Python Questions\n",
    "\n",
    " 6. Write a Python program to calculate the cosine similarity between two large datasets represented as sparse vectors stored in a database.\n",
    " 7. You have a multi-gigabyte CSV file that doesn’t fit into memory. Write a Python script to calculate the average value of a specific column without loading the entire file into memory.\n",
    " 8. Implement a Python class that dynamically creates a hierarchical data structure from a flat table with ID, ParentID, and Value columns."
   ]
  },
  {
   "cell_type": "markdown",
   "id": "3d4a1012",
   "metadata": {},
   "source": [
    "<div style=\"background-color:black; padding:10px; border-radius:25px;\">Meesho </div>\n"
   ]
  },
  {
   "cell_type": "markdown",
   "id": "06c32433",
   "metadata": {},
   "source": [
    "\n",
    "\n",
    "Power BI Questions:\n",
    "\n",
    " 1. Explain the concept of context transition in DAX and provide an example.\n",
    " 2. How would you optimize a complex Power BI report for faster performance?\n",
    " 3. Describe the process of creating and using calculation groups in Power BI.\n",
    " 4. Explain how you would handle large datasets in Power BI without compromising performance.\n",
    " 5. What is a composite model in Power BI, and how can it be used effectively?\n",
    " 6. How does the USERELATIONSHIP function work, and when would you use it?\n",
    " 7. Describe how to use Power Query M language for advanced data transformations.\n",
    " 8. Explain the difference between CROSSFILTER and TREATAS in DAX.\n",
    "\n",
    "SQL Questions:\n",
    "\n",
    " 1. How would you optimize a slow-running query with multiple joins?\n",
    " 2. What is a recursive CTE, and can you provide an example of when to use it?\n",
    " 3. Explain the difference between clustered and non-clustered indexes and when to use each.\n",
    " 4. Write a query to find the second highest salary in each department.\n",
    " 5. How would you detect and resolve deadlocks in SQL?\n",
    " 6. Explain window functions and provide examples of ROW_NUMBER, RANK, and DENSE_RANK.\n",
    " 7. Describe the ACID properties in database transactions and their significance.\n",
    " 8. Write a query to calculate a running total with partitions based on specific conditions."
   ]
  },
  {
   "cell_type": "markdown",
   "id": "2c1546ea",
   "metadata": {},
   "source": [
    "<div style=\"background-color:black; padding:10px; border-radius:25px;\">Shell </div>\n"
   ]
  },
  {
   "cell_type": "markdown",
   "id": "de39a9ec",
   "metadata": {},
   "source": [
    "\n",
    "\n",
    "SQL Questions\n",
    "\n",
    " 1. You have a table Transactions with columns TransactionID, CustomerID, Date, and Amount. Write a query to calculate the cumulative revenue per customer for each month in the last year.\n",
    " 2. A table Production contains columns PlantID, Date, and Output. Write a query to identify the plants that consistently exceeded their daily average output for at least 20 days in a given month.\n",
    " 3. In a table EmployeeAttendance with columns EmployeeID, Date, and Status (values: ‘Present’, ‘Absent’), write a query to find employees with the highest consecutive absences in the last quarter.\n",
    " 4. What are the pros and cons of using indexes in SQL, and when would you avoid using them?\n",
    " 5. Explain the differences between window functions and aggregate functions with examples.\n",
    "\n",
    "Python Questions\n",
    "\n",
    " 6. Write a Python script to merge multiple CSV files from a directory into a single file and perform basic data cleaning.\n",
    " 7. Given a list of dictionaries, write a Python program to group the data by a specific key and calculate summary statistics for the grouped data.\n",
    " 8. Explain the difference between a list, a tuple, and a dictionary in Python, and provide examples of their usage.\n",
    " 9. Write a Python function to automate the generation of monthly reports from a dataset stored in an Excel file.\n",
    "\n",
    "Power BI Questions\n",
    "\n",
    " 10. How would you create a dashboard in Power BI to track the operational efficiency of production plants?\n",
    " 11. Explain how you would handle a situation where the data source refresh in Power BI is causing delays.\n",
    " 12. What is the difference between row-level security and role-level security in Power BI?\n",
    " 13. How would you use Power BI to visualize trends and outliers in daily sales data?\n",
    " 14. Discuss how you would create a calculated measure to show YoY (Year-over-Year) growth in Power BI.\n",
    "\n",
    "General Questions\n",
    "\n",
    " 15. Share an example where your data-driven insights helped solve a business problem or improve a process.\n",
    " 16. How do you prioritize tasks and manage deadlines in a high-pressure environment?\n",
    " 17. Why do you want to join Shell, and how do you see your expertise aligning with their vision?"
   ]
  },
  {
   "cell_type": "markdown",
   "id": "0896d857",
   "metadata": {},
   "source": [
    "<div style=\"background-color:black; padding:10px; border-radius:25px;\">Google </div>\n"
   ]
  },
  {
   "cell_type": "markdown",
   "id": "21c7f43a",
   "metadata": {},
   "source": [
    "1. Explain the concept of an ML pipeline and its components.\n",
    "2. How do you handle missing data in an ML pipeline using Python?\n",
    "3. What are the differences between Pipeline and ColumnTransformer in sklearn?\n",
    "4. How do you optimize hyperparameters in Python?\n",
    "5. Explain the difference between GridSearchCV and RandomizedSearchCV.\n",
    "6. How do you handle categorical variables in Python?\n",
    "7. What is feature scaling, and how do you implement it in Python?\n",
    "8. How do you perform feature selection in Python?\n",
    "9. Explain the role of fit, transform, and fit_transform in scikit-learn.\n",
    "10. How do you evaluate the performance of a machine learning model in Python?\n",
    "11. What are Python's key libraries for building and deploying ML pipelines?\n",
    "12. How do you implement cross-validation in Python?\n",
    "13. Explain the difference between train_test_split and k-fold cross-validation.\n",
    "14. How do you deal with imbalanced datasets in Python?\n",
    "15. How do you use Python for data preprocessing in an ML pipeline?\n",
    "16. What is the difference between bagging and boosting, and how do you implement them in Python?\n",
    "17. How do you deploy an ML model in production using Python?\n",
    "18. What is the purpose of joblib or pickle in model persistence?\n",
    "19. How do you monitor and retrain ML models in production using Python?\n",
    "20. What is the difference between TensorFlow and PyTorch?\n",
    "21. How do you handle large datasets that don’t fit into memory in Python?\n",
    "21. How do you visualize feature importance in Python?\n",
    "22. Explain the difference between ensemble methods like RandomForest and XGBoost.\n",
    "23. How do you implement dimensionality reduction techniques in Python?\n",
    "24. How do you handle overfitting in an ML pipeline using Python?\n",
    "25. How do you log ML experiments in Python?\n",
    "26. How do you test the reproducibility of ML results in Python?\n",
    "27. Explain the difference between batch and online learning in Python.\n",
    "28. How do you integrate Python with cloud-based ML platforms like AWS SageMaker or GCP AI Platform?\n",
    "29. How do you implement automated ML (AutoML) in Python?"
   ]
  },
  {
   "cell_type": "markdown",
   "id": "7dbe5c56",
   "metadata": {},
   "source": [
    "<div style=\"background-color:black; padding:10px; border-radius:25px;\">Snap Inc. </div>\n"
   ]
  },
  {
   "cell_type": "markdown",
   "id": "dcd7a91e",
   "metadata": {},
   "source": [
    "\n",
    "\n",
    " SQL & Data Manipulation\n",
    "1. Write a query to find the top-performing ads based on click-through rate.\n",
    "2. How would you identify active users in a dataset of user login logs?\n",
    "3. Given a table of user activity logs, write a query to calculate the daily active users (DAU).\n",
    "4. How do you optimize a slow SQL query?\n",
    "5. Write a query to segment users based on their engagement levels.\n",
    "\n",
    "Statistics & Probability\n",
    "1. How would you calculate confidence intervals for a new feature rollout?\n",
    "2. Explain p-value in the context of A/B testing.\n",
    "3. Given a dataset of user sessions, how would you calculate the probability of a user clicking on an ad?\n",
    "4. What statistical tests would you use to measure the effectiveness of a new feature?\n",
    "5. How do you handle data with seasonality or trends when analyzing performance metrics?\n",
    "\n",
    " Python for Data Analysis\n",
    "1. Write a Python function to identify the top 10 most common hashtags in a dataset.\n",
    "2. How would you detect anomalies in user engagement metrics?\n",
    "3. Write a script to clean a dataset with missing or inconsistent values.\n",
    "4. Use Pandas to calculate the rolling average of daily active users.\n",
    "5. Describe how you’d implement a recommendation system for Snapchat’s Discover page.\n",
    "\n",
    "Business Case & Product Sense\n",
    "1. How would you measure the success of a new filter on Snapchat?\n",
    "2. Propose KPIs for measuring user retention.\n",
    "3. How would you evaluate the impact of a new feature on user engagement?\n",
    "4. Suggest ways to improve ad targeting on Snapchat.\n",
    "5. Explain how you would prioritize which user feedback to address first.\n",
    "\n",
    " Behavioral Questions\n",
    "1. Tell me about a time you used data to solve a business problem.\n",
    "2. Describe a challenging project and how you overcame obstacles.\n",
    "3. How do you ensure data accuracy in your analyses?\n",
    "4. Explain a time when your analysis influenced a product decision.\n",
    "5. Describe how you collaborate with cross-functional teams like Product Managers or Engineers."
   ]
  },
  {
   "cell_type": "markdown",
   "id": "a890301b",
   "metadata": {},
   "source": [
    "<div style=\"background-color:black; padding:10px; border-radius:25px;\">BlackRock </div>\n"
   ]
  },
  {
   "cell_type": "markdown",
   "id": "afedc8e7",
   "metadata": {},
   "source": [
    "BlackRock Data Analyst Interview Experience:\n",
    "CTC: 25 LPA\n",
    "\n",
    "\n",
    "SQL Questions\n",
    "\n",
    " 1. Identify customers who have invested in at least two funds with opposite performance trends (one increasing and the other decreasing) over the last 6 months.\n",
    " 2. Write a query to calculate the year-to-date portfolio returns for each client, ensuring that the query can handle daily transactions across multiple funds.\n",
    " 3. Find the top 5 performing funds within each region based on their weighted average returns, accounting for the size of investments in each fund.\n",
    " 4. Write a query to detect and list transactions that may indicate potential duplication (e.g., same client, fund, amount, and timestamp within 5 minutes).\n",
    " 5. Discuss the implementation and use of materialized views for financial dashboards. How would you ensure they are updated efficiently in near real-time?\n",
    " 6. Explain the ACID properties of SQL transactions and their importance in a financial database handling millions of trades daily.\n",
    " 7. Describe how you would design a sharding strategy for a massive transactional database storing global trading data.\n",
    " 8. Explain the role of indexing in optimizing complex joins and aggregations for a dataset with billions of financial records. Provide examples of when over-indexing might degrade performance.\n",
    "\n",
    "Python Questions\n",
    "\n",
    " 1. Write a Python function to find the second largest element in a list without using built-in sorting functions.\n",
    " 2. Implement a program that takes a dictionary of funds (keys: fund names, values: returns) and returns the name of the fund with the highest return.\n",
    " 3. Write a Python script to remove duplicates from a list of client IDs while maintaining the original order.\n",
    " 4. Develop a function to merge two dictionaries containing client portfolios, summing the values of common keys (assets).\n",
    " 5. Explain the differences between Python’s collections.defaultdict and a standard dictionary. When would you use defaultdict in financial data processing?\n",
    " 6. Discuss how Python’s multiprocessing module can be used to improve the performance of a script analyzing high-frequency trading data.\n",
    " 7. How would you use Python’s itertools module to generate all possible portfolio combinations from a list of 10 assets? Discuss the computational challenges of such tasks.\n",
    " 8. Explain the use of Python’s decorators to log execution time and memory usage for functions processing large-scale financial data."
   ]
  },
  {
   "cell_type": "markdown",
   "id": "fa275dbb",
   "metadata": {},
   "source": [
    "<div style=\"background-color:black; padding:10px; border-radius:25px;\">Target </div>\n"
   ]
  },
  {
   "cell_type": "markdown",
   "id": "d82d3bb0",
   "metadata": {},
   "source": [
    "Target Data Analyst Interview Experience:\n",
    "CTC - 17 LPA\n",
    "\n",
    "\n",
    "SQL Questions\n",
    "\n",
    " 1. Identify the top 5 products that have shown the highest increase in weekly sales over the last quarter.\n",
    " 2. Calculate the percentage of out-of-stock items for each store and identify the stores that exceed 20% out-of-stock items on average.\n",
    " 3. Find products that were consistently sold in every store across a region but saw no sales in at least one store last month.\n",
    " 4. Design a query to track customer retention by calculating how many customers made purchases every month for the last 6 months.\n",
    " 5. Explain how indexing works in SQL and how you would use it to optimize a query that involves multiple joins on a large dataset of store transactions.\n",
    " 6. Discuss how you would manage and query a database containing billions of rows of sales data across multiple time zones.\n",
    " 7. In the case of seasonal promotions, how would you design an SQL query to measure the effectiveness of discounts on specific product categories?\n",
    " 8. Explain the difference between OLTP and OLAP databases, and provide examples of how Target might use each for its operations.\n",
    "\n",
    "Python Questions\n",
    "\n",
    " 1. Write a function to calculate the total sales of a product, given a list of daily sales data.\n",
    " 2. Develop a script that reads a dictionary containing product IDs and their stock counts, and flags products that have stock below a certain threshold.\n",
    " 3. Write a Python function to generate a weekly sales report from a CSV file containing transaction data (columns: date, product_id, sales_amount). The output should be the total sales for each product for the week.\n",
    " 4. Explain how Python’s pandas library can be used to handle missing data in large sales datasets. Provide an example of filling in missing values for daily sales based on the average sales of the corresponding day of the week.\n",
    " 5. Write a function that takes two lists: one with store IDs and another with their corresponding revenue. Return a dictionary where the keys are store IDs, and the values are the revenues.\n",
    " 6. What are the key differences between a list and a dictionary in Python? How would you use them for different tasks in analyzing retail data?"
   ]
  },
  {
   "cell_type": "markdown",
   "id": "be72ceb4",
   "metadata": {},
   "source": [
    "<div style=\"background-color:black; padding:10px; border-radius:25px;\">Siemens </div>\n"
   ]
  },
  {
   "cell_type": "markdown",
   "id": "f2ef33b8",
   "metadata": {},
   "source": [
    "Siemens Data Analyst Interview Experience (1-3 Years):\n",
    "CTC- 15 LPA\n",
    "\n",
    "\n",
    "SQL Questions\n",
    "\n",
    " 1. A table EnergyConsumption contains columns DeviceID, Timestamp, and EnergyUsed. Write a query to find the devices that exceeded their daily average energy usage by more than 20% in the last month.\n",
    " 2. Given a table Machines with columns MachineID, StartTime, EndTime, and Output, write a query to calculate the total operational time and average output for each machine over the last quarter.\n",
    " 3. You have a table Suppliers with columns SupplierID, Region, and Rating. Write a query to rank suppliers by their rating within each region.\n",
    " 4. Explain the differences between OLAP and OLTP databases with examples of use cases for each.\n",
    " 5. How would you approach optimizing a SQL query that involves multiple joins and subqueries?\n",
    "\n",
    "Python Questions\n",
    "\n",
    " 6. Write a Python script to simulate and visualize the operational efficiency of a machine based on given performance metrics over time.\n",
    " 7. How would you use Python to connect to an SQL database, query data, and save the results as a CSV file?\n",
    " 8. Write a Python function to calculate the correlation between two columns in a dataset.\n",
    " 9. Explain how you would use Python libraries such as Pandas and Matplotlib to identify and visualize trends in manufacturing data.\n",
    "\n",
    "Power BI Questions\n",
    "\n",
    " 10. How would you design a Power BI dashboard to monitor the performance of production lines across multiple factories?\n",
    " 11. What steps would you take to integrate data from multiple sources (e.g., SQL Server, Excel) into a single Power BI model?\n",
    " 12. Explain the concept of Direct Query in Power BI and its advantages and limitations.\n",
    " 13. How would you use What-If parameters in Power BI to simulate different scenarios for resource planning?\n",
    " 14. Write a DAX measure to calculate the cumulative production output for a factory over a specific period."
   ]
  },
  {
   "cell_type": "markdown",
   "id": "3cf81b21",
   "metadata": {},
   "source": [
    "<div style=\"background-color:black; padding:10px; border-radius:25px;\">Care Insurance </div>"
   ]
  },
  {
   "cell_type": "markdown",
   "id": "0910a897",
   "metadata": {},
   "source": [
    "Care Insurance Business Analyst Interview Question (1-3 years):\n",
    "\n",
    "\n",
    "SQL Questions:\n",
    "\n",
    " 1. Write a query to find the top 3 insurance products with the highest claims in the last year.\n",
    " 2. Given a table of customer policies and claim dates, find customers with multiple claims within the same month.\n",
    " 3. How would you retrieve policyholders whose premium increased more than 20% in the past year?\n",
    " 4. Provided two table write down the output for left,right, inner and cross join.\n",
    " 5. Describe the purpose of window functions and how they might be used to analyze customer behavior trends over time.\n",
    " 6. What is indexing.explain its use cases?\n",
    "\n",
    "Case Study:\n",
    "\n",
    "The interviewer presented a case where we had to analyze the cancellation trends of health insurance policies within a year. They asked to suggest key metrics to track, the approach to identifying top reasons for cancellations, and strategies to improve customer retention based on findings.\n",
    "\n",
    "Guesstimate:\n",
    "\n",
    "Estimate the total number of people in India who might be willing to purchase health insurance in next one year."
   ]
  },
  {
   "cell_type": "markdown",
   "id": "12ac5612",
   "metadata": {},
   "source": [
    "<div style=\"background-color:black; padding:10px; border-radius:25px;\">Mercedes-Benz  </div>\n"
   ]
  },
  {
   "cell_type": "markdown",
   "id": "4988d392",
   "metadata": {},
   "source": [
    "\n",
    "\n",
    "\n",
    "Power BI :\n",
    "\n",
    " 1. Create a DAX measure to identify the top 5 products by color using data from ‘Product’ (columns: ‘product_id’, ‘product_color’) and ‘Sales’ (columns: ‘product_id’, ‘profit’).\n",
    " 2. Discuss how to set up Row-Level Security (RLS) in Power BI.\n",
    " 3. Outline the various types of filters available in Power BI.\n",
    " 4. Clarify the distinction between the ‘ALL’ and ‘ALLSELECTED’ functions in DAX.\n",
    " 5. Write a DAX formula for calculating the 12-month rolling average of sales with a table ‘sales’ that includes a ‘DATE’ column, ‘product_id’, and ‘profit’.\n",
    "\n",
    "Python:\n",
    "\n",
    " 1. Build a dictionary, add items to it, modify an entry, and display it sorted by key.\n",
    " 2. Identify unique values in a list of mixed numbers and show how often each value appears.\n",
    " 3. Detect duplicate values in a list of mixed numbers and count their occurrences.\n",
    " 4. Develop a function to add two numbers, take user input, and handle errors such as non-numeric or empty input.\n",
    "\n",
    "SQL:\n",
    "\n",
    " 1. Construct a SQL query to display employee and manager names using a self-join on an ‘employees’ table with ‘emp_id’, ‘name’, and ‘manager_id’ columns.\n",
    " 2. Describe the order of operations in a SQL query."
   ]
  },
  {
   "cell_type": "markdown",
   "id": "970d02c3",
   "metadata": {},
   "source": [
    "<div style=\"background-color:black; padding:10px; border-radius:25px;\">ITC InfoTech</div>\n"
   ]
  },
  {
   "cell_type": "markdown",
   "id": "c212d8db",
   "metadata": {},
   "source": [
    "ITC Infotech Power BI Developer Interview Experience(1-3 years)\n",
    "\n",
    "\n",
    "\n",
    "Power BI Questions:\n",
    "\n",
    " 1. How do you ensure data integrity when combining data from multiple sources in Power BI?\n",
    " 2. What is the difference between a slicer and a filter in Power BI? When would you use each?\n",
    " 3. Describe a time when you optimized a Power BI report for performance. What steps did you take?\n",
    " 4. How do you handle missing values in your Power BI datasets?\n",
    " 5. What techniques can you use to visualize KPI trends effectively in Power BI?\n",
    " 6. How would you create a measure to calculate year-over-year growth in Power BI?\n",
    " 7. Explain how you would implement row-level security in a Power BI report.\n",
    " 8. How do you ensure your Power BI reports are user-friendly for non-technical stakeholders?\n",
    "\n",
    "SQL Questions:\n",
    "\n",
    " 1. Explain the outputs for all the joins.\n",
    " 2. How would you write a query to find the top five products by sales?\n",
    " 3. Explain the purpose of indexes in SQL. How do they improve query performance?\n",
    " 4. Can you describe a situation where you had to optimize a slow-running SQL query? What approach did you take?"
   ]
  },
  {
   "cell_type": "markdown",
   "id": "3e01d3da",
   "metadata": {},
   "source": [
    "<div style=\"background-color:black; padding:10px; border-radius:25px;\">Tiger Analytics</div>\n"
   ]
  },
  {
   "cell_type": "markdown",
   "id": "58a9d293",
   "metadata": {},
   "source": [
    "Tiger Analytics Data Analyst Interview Experience (0-3 years)\n",
    "\n",
    "\n",
    "\n",
    "SQL Questions:\n",
    "\n",
    " 1. Describe a scenario where you used SQL to analyze customer data. What insights did you uncover?\n",
    " 2. Rate your SQL skills on a scale of 1-10 and provide examples of advanced queries you’ve written.\n",
    " 3. Write a query to identify the second-highest salary in each department.\n",
    " 4. Explain the concept of JOINs and provide a query that joins three tables (Orders, Customers, Products) to find the top 5 customers by revenue.\n",
    " 5. What is a Common Table Expression (CTE) in SQL, and when would you use it? Write a CTE query to calculate cumulative monthly sales.\n",
    " 6. Write an SQL query to find all employees whose salaries are above the department average.\n",
    " 7. Describe your approach to optimizing SQL queries. Can you share an example where optimization made a noticeable difference?\n",
    "\n",
    "Python Questions:\n",
    "\n",
    " 1. What Python libraries do you frequently use for data manipulation, and why?\n",
    " 2. How would you write a Python function to calculate moving averages for sales data?\n",
    " 3. Write a Pandas code snippet to remove outliers from a dataset based on the IQR method.\n",
    " 4. Describe a project where you used Matplotlib or Seaborn for data visualization. What insights did your visualizations reveal?\n",
    " 5. How would you merge three DataFrames (Sales, Customers, Regions) and compute the average sales per region?\n",
    " 6. Write a Python code snippet to group data by product category and calculate total revenue for each category.\n",
    " 7. How do you handle missing data in Python? Share a few imputation techniques you use.\n",
    " 8. Explain how you would use time series analysis in Python for forecasting monthly sales."
   ]
  }
 ],
 "metadata": {
  "language_info": {
   "name": "python"
  }
 },
 "nbformat": 4,
 "nbformat_minor": 5
}
